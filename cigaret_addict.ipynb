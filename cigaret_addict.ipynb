{
 "cells": [
  {
   "cell_type": "code",
   "execution_count": null,
   "metadata": {},
   "outputs": [],
   "source": [
    "while True:\n",
    "    age=str(input(\"Are you a cigarette addict older than 75 years old?\"))\n",
    "    if age in {\"y\",\"ye\",\"yes\",\"no\",\"n\"}:\n",
    "        \n",
    "        age=age.lower() in {\"y\",\"ye\",\"yes\"}\n",
    "\n",
    "#chronic=str(input(\"Do you have a severe chronic disease?\"))\n",
    "#chronic=chronic.lower() in {\"y\",\"ye\",\"yes\"}\n",
    "#immune=str(input(\"Is your immune system too weak?\"))\n",
    "#immune=immune.lower() in {\"y\",\"ye\",\"yes\"}\n",
    "#conclusion=(age or chronic or immune)\n",
    "if conclusion==True:\n",
    "    print(\"\"\"You are in risky group\"\"\")\n",
    "else:\n",
    "    print(\"\"\"You are not in risky group\"\"\")\n",
    "\n",
    "\n",
    "            \n"
   ]
  },
  {
   "cell_type": "code",
   "execution_count": null,
   "metadata": {},
   "outputs": [],
   "source": [
    "while True:\n",
    "    age=str(input(\"Are you a cigarette addict older than 75 years old?\"))\n",
    "    if age in {\"y\",\"ye\",\"yes\",\"no\",\"n\"}:\n",
    "        \n",
    "        age=age.lower() in {\"y\",\"ye\",\"yes\"}\n",
    "        break\n",
    "\n",
    "#chronic=str(input(\"Do you have a severe chronic disease?\"))\n",
    "#chronic=chronic.lower() in {\"y\",\"ye\",\"yes\"}\n",
    "#immune=str(input(\"Is your immune system too weak?\"))\n",
    "#immune=immune.lower() in {\"y\",\"ye\",\"yes\"}\n",
    "#conclusion=(age or chronic or immune)\n",
    "if conclusion==True:\n",
    "    print(\"\"\"You are in risky group\"\"\")\n",
    "else:\n",
    "    print(\"\"\"You are not in risky group\"\"\")"
   ]
  },
  {
   "cell_type": "code",
   "execution_count": null,
   "metadata": {},
   "outputs": [],
   "source": []
  },
  {
   "cell_type": "code",
   "execution_count": null,
   "metadata": {},
   "outputs": [],
   "source": []
  }
 ],
 "metadata": {
  "kernelspec": {
   "display_name": "Python 3",
   "language": "python",
   "name": "python3"
  },
  "language_info": {
   "codemirror_mode": {
    "name": "ipython",
    "version": 3
   },
   "file_extension": ".py",
   "mimetype": "text/x-python",
   "name": "python",
   "nbconvert_exporter": "python",
   "pygments_lexer": "ipython3",
   "version": "3.7.3"
  }
 },
 "nbformat": 4,
 "nbformat_minor": 2
}
