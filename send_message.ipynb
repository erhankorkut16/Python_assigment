{
 "cells": [
  {
   "cell_type": "code",
   "execution_count": 3,
   "metadata": {},
   "outputs": [
    {
     "name": "stdout",
     "output_type": "stream",
     "text": [
      "[1, 2, 3, 4, 5, 6]\n"
     ]
    }
   ],
   "source": [
    "import smtplib\n",
    "server = smtplib.SMTP(\"smtp.gmail.com\", 587)\n",
    "server.starttls()\n",
    "\n",
    "server.login(\"necati.sakir.74\", password)\n",
    "message = \"\\n Bu benim son dersim. Herkese selam olsun. Gorusmek uzere \\n\"\n",
    "\n",
    "mails = [\"abdurrahmankucuk90@gmail.com\",\n",
    "         \"nurettinakinoral@gmail.com\",\n",
    "         \"hakanyusufbeyli@gmail.com\",\n",
    "         \"fthgnydn34@gmail.com\",\n",
    "         \"tarknsahin@gmail.com\",\n",
    "         \"sfrancisclarus@gmail.com\",\n",
    "         \"ozdemiraziz@gmail.com\"]\n",
    "\n",
    "server.sendmail(\"necati.sakir.74@gmail.com\", mails, message)\n",
    "server.quit()"
   ]
  },
  {
   "cell_type": "code",
   "execution_count": null,
   "metadata": {},
   "outputs": [],
   "source": []
  }
 ],
 "metadata": {
  "interpreter": {
   "hash": "31f2aee4e71d21fbe5cf8b01ff0e069b9275f58929596ceb00d14d90e3e16cd6"
  },
  "kernelspec": {
   "display_name": "Python 3.8.10 64-bit",
   "language": "python",
   "name": "python3"
  },
  "language_info": {
   "codemirror_mode": {
    "name": "ipython",
    "version": 3
   },
   "file_extension": ".py",
   "mimetype": "text/x-python",
   "name": "python",
   "nbconvert_exporter": "python",
   "pygments_lexer": "ipython3",
   "version": "3.8.10"
  },
  "orig_nbformat": 4
 },
 "nbformat": 4,
 "nbformat_minor": 2
}
